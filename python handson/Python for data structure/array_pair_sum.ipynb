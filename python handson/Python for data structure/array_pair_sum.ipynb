{
 "cells": [
  {
   "cell_type": "code",
   "execution_count": 50,
   "metadata": {
    "collapsed": false
   },
   "outputs": [
    {
     "name": "stdout",
     "output_type": "stream",
     "text": [
      "(1, 5)\n",
      "(7, -1)\n"
     ]
    }
   ],
   "source": [
    "def pair_sum(arr, k):\n",
    "    l = []\n",
    "    s = set()\n",
    "    arr_length = len(arr)\n",
    "    for i in range(arr_length-1):\n",
    "        for j in range(i,(arr_length-1)):\n",
    "            new_k = arr[i] + arr[j]\n",
    "            if new_k == k:\n",
    "                s.add((arr[i],arr[j]))\n",
    "    t = list(s)\n",
    "    print(\"\\n\".join(map(str,t)))    \n",
    "    \n",
    "pair_sum([1, 5, 7, -1, 5],6)"
   ]
  },
  {
   "cell_type": "code",
   "execution_count": 40,
   "metadata": {
    "collapsed": false
   },
   "outputs": [
    {
     "name": "stdout",
     "output_type": "stream",
     "text": [
      "(5, -1)\n",
      "(7, 1)\n"
     ]
    }
   ],
   "source": [
    "def pair_sum2(arr,k):\n",
    "    seen = set()\n",
    "    output = set()\n",
    "    if len(arr) <= 1:\n",
    "        return \"array must contain 2 elements\"\n",
    "    for item in arr:\n",
    "        target = item - k\n",
    "        if target not in arr:\n",
    "            seen.add(item)\n",
    "        else:\n",
    "            output.add((max(target,item),min(target,item)))\n",
    "    print(\"\\n\".join(map(str,list(output))))\n",
    "\n",
    "pair_sum2([1, 5, 7, -1, 5],6)"
   ]
  },
  {
   "cell_type": "code",
   "execution_count": null,
   "metadata": {
    "collapsed": true
   },
   "outputs": [],
   "source": []
  }
 ],
 "metadata": {
  "kernelspec": {
   "display_name": "Python [default]",
   "language": "python",
   "name": "python3"
  },
  "language_info": {
   "codemirror_mode": {
    "name": "ipython",
    "version": 3
   },
   "file_extension": ".py",
   "mimetype": "text/x-python",
   "name": "python",
   "nbconvert_exporter": "python",
   "pygments_lexer": "ipython3",
   "version": "3.5.2"
  }
 },
 "nbformat": 4,
 "nbformat_minor": 2
}
