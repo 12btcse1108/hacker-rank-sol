{
 "cells": [
  {
   "cell_type": "code",
   "execution_count": 16,
   "metadata": {
    "collapsed": false
   },
   "outputs": [
    {
     "name": "stdout",
     "output_type": "stream",
     "text": [
      "6\n"
     ]
    }
   ],
   "source": [
    "def array_missing(arr1, arr2):\n",
    "    new_arr = []\n",
    "    for item in arr1:\n",
    "        if item in arr2:\n",
    "            arr2.remove(item)\n",
    "        else:\n",
    "            new_arr.append(item)\n",
    "    return (\"\\t\".join(map(str,new_arr)))\n",
    "            "
   ]
  },
  {
   "cell_type": "code",
   "execution_count": 17,
   "metadata": {
    "collapsed": false
   },
   "outputs": [
    {
     "name": "stdout",
     "output_type": "stream",
     "text": [
      "6\n"
     ]
    }
   ],
   "source": [
    "def array_missing2(arr1,arr2):\n",
    "    arr1.sort()\n",
    "    arr2.sort()\n",
    "    for i,j in zip(arr1,arr2):\n",
    "        if i != j:\n",
    "            return i\n",
    "    return arr1[-1]\n",
    "\n"
   ]
  },
  {
   "cell_type": "code",
   "execution_count": 20,
   "metadata": {
    "collapsed": false
   },
   "outputs": [
    {
     "name": "stdout",
     "output_type": "stream",
     "text": [
      "6\n"
     ]
    }
   ],
   "source": [
    "import collections\n",
    "def array_missing3(arr1,arr2):\n",
    "    d = collections.defaultdict(int)\n",
    "    \n",
    "    for item in arr2:\n",
    "        d[item] += 1\n",
    "    \n",
    "    for item in arr1:\n",
    "        if d[item] == 0:\n",
    "            return item\n",
    "        else:\n",
    "            d[item] -=1\n",
    "            \n",
    "print(array_missing3([9,8,7,6,5,4,3,2,1],[9,8,7,5,4,3,2,1]))"
   ]
  },
  {
   "cell_type": "code",
   "execution_count": null,
   "metadata": {
    "collapsed": true
   },
   "outputs": [],
   "source": []
  }
 ],
 "metadata": {
  "anaconda-cloud": {},
  "kernelspec": {
   "display_name": "Python [default]",
   "language": "python",
   "name": "python3"
  },
  "language_info": {
   "codemirror_mode": {
    "name": "ipython",
    "version": 3
   },
   "file_extension": ".py",
   "mimetype": "text/x-python",
   "name": "python",
   "nbconvert_exporter": "python",
   "pygments_lexer": "ipython3",
   "version": "3.5.2"
  }
 },
 "nbformat": 4,
 "nbformat_minor": 2
}
